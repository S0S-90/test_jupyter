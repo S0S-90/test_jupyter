{
 "cells": [
  {
   "cell_type": "markdown",
   "metadata": {},
   "source": [
    "# Erstes Notebook\n",
    "\n",
    "Zuerst werden wir ein kleines \"Hello World\" Programm in Python schreiben"
   ]
  },
  {
   "cell_type": "code",
   "execution_count": 1,
   "metadata": {},
   "outputs": [
    {
     "name": "stdout",
     "output_type": "stream",
     "text": [
      "Hello World\n"
     ]
    }
   ],
   "source": [
    "print \"Hello World\""
   ]
  },
  {
   "cell_type": "markdown",
   "metadata": {},
   "source": [
    "Wir sehen, dass der Befehl \"print\" den dahinterstehenden Text ausgibt.\n",
    "Also probieren wir damit noch ein bisschen herum:"
   ]
  },
  {
   "cell_type": "code",
   "execution_count": 2,
   "metadata": {},
   "outputs": [
    {
     "name": "stdout",
     "output_type": "stream",
     "text": [
      "Hello World\n",
      "und nochmal Hello World\n"
     ]
    }
   ],
   "source": [
    "print \"Hello World\"\n",
    "print \"und nochmal Hello World\""
   ]
  },
  {
   "cell_type": "markdown",
   "metadata": {},
   "source": [
    "Jeder neue print-Befehl beginnt in einer neuen Zeile. Alles, was wir bisher gesehen haben, waren sogenannte \"strings\". Jeder Text ist ein string. Er steht in Anführungszeichen und besteht aus einzelnen \"characters\", die man sich grob als Buchstaben vorstellen kann. Allerdings sind auch Zahlen und Sonderzeichen (wie das Leerzeichen) characters. Auf die einzelnen characters eines strings kann man mit eckigen Klammern zugreifen:"
   ]
  },
  {
   "cell_type": "code",
   "execution_count": 3,
   "metadata": {},
   "outputs": [
    {
     "name": "stdout",
     "output_type": "stream",
     "text": [
      "W\n"
     ]
    }
   ],
   "source": [
    "print \"HelloWorld\"[5]"
   ]
  },
  {
   "cell_type": "markdown",
   "metadata": {},
   "source": [
    "Der Character mit der Nummer 5 ist also ein W. Wichtig ist, dass Python, wie andere Programmiersprachen auch, bei Null zu zählen beginnt. Um das zu demonstrieren, lassen wir uns einfach mal alle characters ausgeben:"
   ]
  },
  {
   "cell_type": "code",
   "execution_count": 5,
   "metadata": {},
   "outputs": [
    {
     "name": "stdout",
     "output_type": "stream",
     "text": [
      "H\n",
      "e\n",
      "l\n",
      "l\n",
      "o\n",
      "W\n",
      "o\n",
      "r\n",
      "l\n",
      "d\n"
     ]
    }
   ],
   "source": [
    "print \"HelloWorld\"[0]\n",
    "print \"HelloWorld\"[1]\n",
    "print \"HelloWorld\"[2]\n",
    "print \"HelloWorld\"[3]\n",
    "print \"HelloWorld\"[4]\n",
    "print \"HelloWorld\"[5]\n",
    "print \"HelloWorld\"[6]\n",
    "print \"HelloWorld\"[7]\n",
    "print \"HelloWorld\"[8]\n",
    "print \"HelloWorld\"[9]"
   ]
  },
  {
   "cell_type": "markdown",
   "metadata": {},
   "source": [
    "## Variablen"
   ]
  },
  {
   "cell_type": "markdown",
   "metadata": {},
   "source": [
    "Im letzten Beispiel haben wie 10x den string \"Hello World\" verwendet. Wenn wir das nicht jedesmal neu tippen wollen, können wir ihn auch in eine Variable speichern:"
   ]
  },
  {
   "cell_type": "code",
   "execution_count": 6,
   "metadata": {},
   "outputs": [
    {
     "name": "stdout",
     "output_type": "stream",
     "text": [
      "W\n",
      "l\n"
     ]
    }
   ],
   "source": [
    "a = \"HelloWorld\"\n",
    "print a[5]\n",
    "print a[8]"
   ]
  },
  {
   "cell_type": "code",
   "execution_count": null,
   "metadata": {},
   "outputs": [],
   "source": []
  }
 ],
 "metadata": {
  "kernelspec": {
   "display_name": "Python 2",
   "language": "python",
   "name": "python2"
  },
  "language_info": {
   "codemirror_mode": {
    "name": "ipython",
    "version": 2
   },
   "file_extension": ".py",
   "mimetype": "text/x-python",
   "name": "python",
   "nbconvert_exporter": "python",
   "pygments_lexer": "ipython2",
   "version": "2.7.14"
  }
 },
 "nbformat": 4,
 "nbformat_minor": 2
}
